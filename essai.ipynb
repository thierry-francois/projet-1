{
 "cells": [
  {
   "cell_type": "markdown",
   "metadata": {},
   "source": [
    "Python est un langage orienté objet (**POO**). Pour introduire la programmation objet, il faut définir la notion de **CLASSE et d’OBJET**.\n",
    "\n",
    "Il existe en python comme dans la majorité des langages différentes tailles de variables selon la nature du contenu (**int** pour les entiers, **float** pour les flottants, **str** pour les chaînes de caractères, etc.).\n",
    "\n",
    "Une Classe va permettre de définir de nouvelles structures de données plus complexes. Pour illustrer cette notion de classe, je vais le faire autour d’un objet simple : un **rectangle**.\n",
    "\n",
    "On peut définir des **attributs** et des **méthodes** à ma classe rectangle. Par exemple la *largeur*, la *hauteur*, la *couleur* la *position en x* et *en y* seront des **attributs** de cette classe.\n",
    "On peut vouloir faire en sorte que ces rectangles subissent des transformations (translation(), rotation()…, on parleras alors de **méthodes**. \n",
    "\n",
    "Un **objet** sera alors défini par une **instance de classe**. Pour mon rectangle, nous pourrons en avoir plusieurs, chacun sera une instance de classe et donc un objet.\n",
    "\n"
   ]
  },
  {
   "cell_type": "markdown",
   "metadata": {},
   "source": [
    "## DEFINITION D’UNE CLASSE :"
   ]
  },
  {
   "cell_type": "markdown",
   "metadata": {},
   "source": [
    "Une classe se défini par le code suivant :"
   ]
  },
  {
   "cell_type": "code",
   "execution_count": null,
   "metadata": {
    "collapsed": true
   },
   "outputs": [],
   "source": [
    "class Rectangle :\n",
    "    \"definition d'un rectangle\""
   ]
  },
  {
   "cell_type": "markdown",
   "metadata": {},
   "source": [
    "le nom doit commencer par une majuscule"
   ]
  },
  {
   "cell_type": "markdown",
   "metadata": {},
   "source": [
    "## CREATION D'UN OBJET :"
   ]
  },
  {
   "cell_type": "code",
   "execution_count": null,
   "metadata": {
    "collapsed": true
   },
   "outputs": [],
   "source": [
    "rec=Rectangle()\n",
    "    #création d'un objet de référence rec"
   ]
  },
  {
   "cell_type": "markdown",
   "metadata": {},
   "source": [
    "Vérification :"
   ]
  },
  {
   "cell_type": "code",
   "execution_count": null,
   "metadata": {
    "collapsed": true
   },
   "outputs": [],
   "source": [
    "print (rec)"
   ]
  },
  {
   "cell_type": "code",
   "execution_count": null,
   "metadata": {
    "collapsed": true
   },
   "outputs": [],
   "source": [
    "print(rec.__doc__)"
   ]
  },
  {
   "cell_type": "markdown",
   "metadata": {},
   "source": [
    "La première ligne nous donne l'adresse physique en RAM où est stocké l'objet rec. La seconde associe la documentation rentrée lors de la création de la classe."
   ]
  },
  {
   "cell_type": "markdown",
   "metadata": {},
   "source": [
    "## DEFINITION DES ATTRIBUTS :"
   ]
  },
  {
   "cell_type": "markdown",
   "metadata": {},
   "source": [
    "Plusieurs possibilités pour déclarer des attributs. On peut faire des déclarations simples ou utiliser des **constructeurs**."
   ]
  },
  {
   "cell_type": "code",
   "execution_count": null,
   "metadata": {
    "collapsed": true
   },
   "outputs": [],
   "source": [
    "class Rectangle :\n",
    "    \"definition d'un rectangle\"\n",
    "\n",
    "reca=Rectangle()\n",
    "recb=Rectangle()\n",
    "\n",
    "reca.l=12\n",
    "reca.h=20\n",
    "reca.couleur=\"bleu\"\n",
    "\n",
    "recb.l=10\n",
    "recb.h=10\n",
    "recb.couleur=\"rouge\"\n",
    "\n",
    "print (\"reca : largeur  = \", reca.l, \"hauteur  = \", reca.h, \"couleur : \",reca.couleur)\n",
    "print (\"recb : largeur  = \", recb.l, \"hauteur  = \", recb.h, \"couleur : \",recb.couleur)\n",
    "\n",
    "car = rec\n",
    "print (\"reca : largeur  = \", reca.l, \"hauteur  = \", reca.h, \"couleur : \",reca.couleur)\n",
    "print (\"recb : largeur  = \", recb.l, \"hauteur  = \", recb.h, \"couleur : \",recb.couleur)\n",
    "\n"
   ]
  },
  {
   "cell_type": "markdown",
   "metadata": {},
   "source": [
    "2 objets qui ne deviennent plus qu'un.\n",
    "\n",
    "Utilisation des **constructeurs** :\n",
    "\n",
    "Un constructeur permet d'initialiser les différents objets d'une classe. Le langage python impose l'initialisation de la classe par --init--(). Double underscore (8) avant et après.\n",
    "\n",
    "Exemple sans parametre :\n"
   ]
  },
  {
   "cell_type": "code",
   "execution_count": null,
   "metadata": {
    "collapsed": true
   },
   "outputs": [],
   "source": [
    "class Rectangle :\n",
    "\n",
    "    def __init__(self):\n",
    "        self.l=0\n",
    "        self.h=0\n",
    "        self.couleur=\"\"\n",
    "\n",
    "rec=Rectangle()\n",
    "print (\"rec : largeur  = \", rec.l, \"hauteur  = \", rec.h, \"couleur : \",rec.couleur)\n",
    "\n",
    "rec.l=12\n",
    "rec.h=20\n",
    "rec.couleur=\"bleu\"\n",
    "print (\"rec : largeur  = \", rec.l, \"hauteur  = \", rec.h, \"couleur : \",rec.couleur)\n"
   ]
  },
  {
   "cell_type": "markdown",
   "metadata": {},
   "source": [
    "Exemple avec paramètres :"
   ]
  },
  {
   "cell_type": "code",
   "execution_count": null,
   "metadata": {
    "collapsed": true
   },
   "outputs": [],
   "source": [
    "class Rectangle :\n",
    "\n",
    "\tdef __init__(self, l,h,c):\n",
    "\t\tself.l=l\n",
    "\t\tself.h=h\n",
    "\t\tself.couleur=c\n",
    "\n",
    "rec=Rectangle(10,20,\"rouge\")\n",
    "print (\"rec : largeur  = \", rec.l, \"hauteur  = \", rec.h, \"couleur : \",rec.couleur)\n"
   ]
  },
  {
   "cell_type": "markdown",
   "metadata": {},
   "source": [
    "Les paramètres du constructeur peuvent ou pas prendre les mêmes noms que les attributs. Ce ne sont pas les mêmes variables."
   ]
  },
  {
   "cell_type": "markdown",
   "metadata": {},
   "source": [
    "## DEFINITION DES METHODES :"
   ]
  },
  {
   "cell_type": "markdown",
   "metadata": {},
   "source": [
    "Les méthodes consistent à affecter des taches aux objets d'une classe. Une méthode se définit comme une fonction avec un premier argument qui doit être **self**.\n",
    "\n",
    "Pour créer des méthodes associées aux classes Rectangle, nous allons en profiter pour utiliser la bibliothèque **tkinter**.\n"
   ]
  },
  {
   "cell_type": "code",
   "execution_count": null,
   "metadata": {
    "collapsed": true
   },
   "outputs": [],
   "source": [
    "from tkinter import *\t# importation de la bibliothèque tkinter et des variables tkinter\n",
    "\n",
    "class Rectangle :\n",
    "    def __init__(self, l,h,c):\n",
    "        self.l=l\n",
    "        self.h=h\n",
    "        self.couleur=c\n",
    "    def affiche(self, x, y):\n",
    "        rectangle = canvas.create_rectangle(x, y, self.l+x, self.h+y, fill=self.couleur)\n",
    "# création de rectangle dans le canavas\n",
    "\n",
    "fenetre = Tk()\n",
    "fenetre.title(\"classe rectangle\")\n",
    "fenetre.resizable(True,True)\n",
    "\n",
    "canvas = Canvas(fenetre, width=600, height=600, background='yellow')\n",
    "# Un canevas (Canvas) est une classe de la bibliothèque tkinter,\n",
    "# c’est une zone rectangulaire qui permet de contenir des dessins, des graphiques, du texte, des widgets… \n",
    "\n",
    "rec=Rectangle(100,200,\"violet\")\n",
    "rec.affiche(50, 50)\n",
    "rec.affiche(10, 200)\n",
    "\n",
    "canvas.pack()\n",
    "\n",
    "fenetre.mainloop()\n"
   ]
  },
  {
   "cell_type": "markdown",
   "metadata": {},
   "source": [
    "Exécuter le script sur l'utilisation de la bibliothèque tkinter.ipynb"
   ]
  },
  {
   "cell_type": "code",
   "execution_count": null,
   "metadata": {
    "collapsed": true
   },
   "outputs": [],
   "source": [
    "from tkinter import *\t# importation de la bibliothèque tkinter et des variables tkinter\n",
    "\n",
    "class Rectangle :\n",
    "    def __init__(self, l,h,c):\n",
    "        self.l=l\n",
    "        self.h=h\n",
    "        self.couleur=c\n",
    "    def affiche(self, x, y):\n",
    "        rectangle = canvas.create_rectangle(x, y, self.l+x, self.h+y, fill=self.couleur)\n",
    "# création de rectangle dans le canavas\n",
    "\n",
    "class Cercle :\n",
    "    def __init__(self, r, c):\n",
    "        self.rayon=r\n",
    "        self.couleur=c\n",
    "    def affiche(self, x, y):\n",
    "        cercle = canvas.create_oval(x, y, self.rayon*2+x, self.rayon*2+y, fill=self.couleur)\n",
    "\n",
    "fenetre = Tk()\n",
    "fenetre.title(\"classe rectangle\")\n",
    "fenetre.resizable(True,True)\n",
    "\n",
    "canvas = Canvas(fenetre, width=600, height=600, background='yellow')\n",
    "# Un canevas (Canvas) est une classe de la bibliothèque tkinter,\n",
    "# c’est une zone rectangulaire qui permet de contenir des dessins, des graphiques, du texte, des widgets… \n",
    "\n",
    "rec=Rectangle(100,200,\"violet\")\n",
    "rec.affiche(50, 50)\n",
    "rec.affiche(10, 200)\n",
    "rond=Cercle(50,\"red\")\n",
    "rond.affiche(200,200)\n",
    "\n",
    "canvas.pack()\n",
    "\n",
    "fenetre.mainloop()\n"
   ]
  },
  {
   "cell_type": "markdown",
   "metadata": {},
   "source": [
    "## Exercice 1 : guirlande\n",
    "\n",
    "Réalisez un programme dessinant une guirlande composée de 17 cercles rouges et verts de rayon 20 pixels.\n",
    "<img src=\"circles.png\" alt=\"image absente\" width=\"680\" align=\"center\">"
   ]
  },
  {
   "cell_type": "code",
   "execution_count": null,
   "metadata": {
    "collapsed": true
   },
   "outputs": [],
   "source": []
  },
  {
   "cell_type": "markdown",
   "metadata": {},
   "source": [
    "## Exercice 2 : guirlande animée\n",
    "\n",
    "Vous allez enrichier votre dessin en faisant clignoter votre guirlande : faites alternez 20 fois les deux couleurs dans chaque cercle. Pour cela vous pouvez stocker votre guirlande dans une liste de cercles, de façon à pouvoir la parcourir pour la dessiner puis en changer les couleurs, ou on peut utiliser la fonction after de tkinter avec les arguments (temps, fonction à exécuter).\n",
    "\n",
    "<img src=\"guirlande.gif\" alt=\"image absente\" width=\"680\" align=\"center\">"
   ]
  },
  {
   "cell_type": "code",
   "execution_count": null,
   "metadata": {
    "collapsed": true
   },
   "outputs": [],
   "source": []
  },
  {
   "cell_type": "markdown",
   "metadata": {},
   "source": [
    "## Exercice 3 : Damier\n",
    "Réalisez un programme dessinant un damier noir et blanc, de dix rangées sur dix colonnes, pour une taille de case de 30 pixels.\n",
    "\n",
    "<img src=\"damier.png\" alt=\"Image absente\" align=\"center\">\n",
    "\n",
    "Votre code doit permettre de changer facilement le nombre et la taille des cases du damier. Testez avec différentes valeurs (notamment des nombres pairs ou impairs de colonnes)."
   ]
  },
  {
   "cell_type": "code",
   "execution_count": null,
   "metadata": {},
   "outputs": [],
   "source": [
    "from tkinter import *\t# importation de la bibliothèque tkinter et des variables tkinter\n",
    "\n",
    "class Case:\n",
    "    def __init__(self,t,c):\n",
    "        self.t=t\n",
    "        self.c=c\n",
    "    def affichage(self,x,y):\n",
    "        carre = canvas.create_rectangle(x,y,self.t+x,self.t+y, fill=self.c)\n",
    "        \n",
    "fenetre =Tk()\n",
    "fenetre.title(\"damier\")\n",
    "fenetre.resizable(True,True)\n",
    "\n",
    "canvas=Canvas(fenetre, width =500, height=500, background= 'white')\n",
    "\n",
    "carreb = Case(40,\"white\")\n",
    "carren = Case(40,\"black\")\n",
    "\n",
    "for j in range(5):\n",
    "    for i in range (5):\n",
    "        carreb.affichage(30+2*carreb.t*i,30+2*carreb.t*j)\n",
    "        carren.affichage(30+carreb.t+2*carren.t*i,30+2*carren.t*j)\n",
    "        carren.affichage(30+2*carren.t*i,30+carreb.t+2*carren.t*j)\n",
    "        carreb.affichage(30+carren.t+2*carreb.t*i,30+carren.t+2*carreb.t*j)\n",
    "canvas.pack()\n",
    "fenetre.mainloop()\n",
    "\n",
    "\n",
    "\n",
    "\n",
    "\n"
   ]
  },
  {
   "cell_type": "markdown",
   "metadata": {
    "collapsed": true
   },
   "source": [
    "## Exercice 4 : La roue de la chance\n",
    "### La roue version statique\n",
    "Avec des instances de la classe `Arc` réalisez une roue comportant toutes les couleurs de la liste existante `colorsdut` comme dans la figure suivante :\n",
    "\n",
    "<img src=\"roue.png\" alt=\"Roue\" width=\"200\" align=\"center\">\n",
    "\n",
    "### Les arcs\n",
    "<img src=\"can_arc.png\" class=\"align-center\">\n",
    "Un arc, dans sa forme générale, est une portion d'ellipse. Une ellipse tout entière ou un cercle forment des cas particuliers. \n",
    "Pour créer un arc sur un canvas, utiliser :\n",
    "\n",
    "Canvas.create_arc<em>(x0, y0, x1, y1, option, ...)</em>\n",
    "\n",
    "Le constructeur retourne l'identifiant numérique du nouvel arc créé.\n",
    "\n",
    "Le point <em>(x0, y0)</em> est le coin supérieur gauche et <em>(x1, y1)</em> le coin inférieur droit du rectangle dans lequel s'inscrit l'ellipse. Si le rectangle est un carré, vous obtenez un (arc) de cercle.\n",
    "<p>Les options possibles sont:</p>\n",
    "Paramètres:\n",
    "\n",
    "<li><strong>activedash</strong> &#8211; Ces options servent à préciser l&#8217;apparence de l&#8217;arc lorsque son état est <tt class=\"docutils literal\"><span class=\"pre\">'active'</span></tt>, c&#8217;est à dire lorsque la souris le survole. Pour les valeurs possibles, voir les options <strong>dash</strong>, <strong>fill</strong>, <strong>outline</strong>, <strong>outlinestipple</strong>, <strong>stipple</strong>, and <strong>width.</strong></li>\n",
    "<li><strong>activefill</strong> &#8211; </li>\n",
    "<li><strong>activeoutline</strong> &#8211; </li>\n",
    "<li><strong>activeoutlinestipple</strong> &#8211; </li>\n",
    "<li><strong>activestipple</strong> &#8211; </li>\n",
    "<li><strong>activewidth</strong> &#8211; </li>\n",
    "<li><strong>dash</strong> &#8211; Sert à réaliser une bordure hachurée autour de l&#8217;arc. Utiliser cette option pour préciser un motif de hachure. </li>\n",
    "<li><strong>dashoffset</strong> &#8211; Utiliser cette option pour décaler la bordure du motif hachuré à un autre point du cycle.</li>\n",
    "<li><strong>disableddash</strong> &#8211; Ces options servent à préciser l&#8217;apparence de l&#8217;arc lorsque son état est <tt class=\"docutils literal\"><span class=\"pre\">'disabled'</span></tt>.</li>\n",
    "<li><strong>disabledfill</strong> &#8211; </li>\n",
    "<li><strong>disabledoutline</strong> &#8211; </li>\n",
    "<li><strong>disabledoutlinestipple</strong> &#8211; </li>\n",
    "<li><strong>disabledstipple</strong> &#8211; </li>\n",
    "<li><strong>disabledwidth</strong> &#8211; </li>\n",
    "<li><strong>extent</strong> &#8211; Largeur angulaire de l&#8217;arc en degrés. L&#8217;arc commence à l&#8217;angle précisé par l&#8217;option <strong>start</strong> et s&#8217;étend de <strong>extent</strong> degrés dans le sens direct (sens contraire des aiguilles d&#8217;une montre).</li>\n",
    "<li><strong>fill</strong> &#8211; Par défaut, l&#8217;intérieur de l&#8217;arc est transparent et vous pouvez obtenir ce comportement avec <tt class=\"docutils literal\"><span class=\"pre\">fill=''</span></tt>. Vous pouvez aussi utiliser une couleur de remplissage.</li>\n",
    "<li><strong>offset</strong> &#8211; Utiliser cette option pour modifier le décalage du motif de «pointillé» de l&#8217;intérieur de l&#8217;arc.</li>\n",
    "<li><strong>outline</strong> &#8211; Couleur de la bordure. Par défaut, <tt class=\"docutils literal\"><span class=\"pre\">outline='black'</span></tt>.</li>\n",
    "<li><strong>outlineoffset</strong> &#8211; Utiliser cette option pour ajuster le motif en «pointillé» de la ligne de bordure. </li>\n",
    "<li><strong>outlinestipple</strong> &#8211; Utiliser cette option pour une ligne de bordure en pointillé. Le motif est précisé à l&#8217;aide d&#8217;un bitmap</li>\n",
    "<li><strong>start</strong> &#8211; Angle (en degré), mesuré à partir de l&#8217;axe des <em>x</em> (dirigé horizontalement et vers la droite), qui précise le point de départ de l&#8217;arc. Si cette option n&#8217;est pas renseignée, on obtient une ellipse.</li>\n",
    "<li><strong>state</strong> &#8211; <tt class=\"docutils literal\"><span class=\"pre\">'normal'</span></tt> par défaut. Il vaut <tt class=\"docutils literal\"><span class=\"pre\">'active'</span></tt> lorsque la souris le survole. Mettre cet option à <tt class=\"docutils literal\"><span class=\"pre\">'disabled'</span></tt> pour l&#8217;empêcher de réagir à la souris, la mettre à <tt class=\"docutils literal\"><span class=\"pre\">'hidden'</span></tt> pour le rendre invisible.</li>\n",
    "<li><strong>stipple</strong> &#8211; Un bitmap pour indiquer le motif de pointillé à utiliser pour remplir l&#8217;intérieur de l&#8217;arc. Par défaut, <tt class=\"docutils literal\"><span class=\"pre\">stipple=''</span></tt>, ce qui indique l&#8217;utilisation potentielle d&#8217;une couleur de remplissage. Une valeur typique serait <tt class=\"docutils literal\"><span class=\"pre\">stipple='gray25'</span></tt>. N&#8217;a pas d&#8217;effet sauf si une couleur a été indiquée pour l&#8217;option <strong>fill</strong> .</li>\n",
    "<li><strong>style</strong> &#8211; Par défaut, l&#8217;arc est dessiné avec ses rayons; utiliser <tt class=\"docutils literal\"><span class=\"pre\">style='pieslice'</span></tt> pour obtenir cela. Pour dessiner l&#8217;arc sans ses rayons, utiliser <tt class=\"docutils literal\"><span class=\"pre\">style='arc'</span></tt>. Pour tracer l&#8217;arc et sa corde, c&#8217;est à dire le segment qui joint ses extrémtités, utiliser <tt class=\"docutils literal\"><span class=\"pre\">style='chord'</span></tt>.</li>\n",
    "<li><strong>tags</strong> &#8211; Si c&#8217;est une chaîne seule, elle sert à marquer (<em>tag</em>) l&#8217;arc. Utiliser un tuple de chaînes pour lui attribuer plusieurs marques.</li>\n",
    "<li><strong>width</strong> &#8211; Largeur de la bordure. Vaut 1 pixel par défaut. Utiliser <tt class=\"docutils literal\"><span class=\"pre\">width=0</span></tt> Pour rendre la bordure invisible.</li>\n",
    "</ul>\n",
    "</td>\n",
    "</tr>\n",
    "</tbody>\n",
    "</table>\n",
    "</dd></dl>"
   ]
  },
  {
   "cell_type": "code",
   "execution_count": null,
   "metadata": {
    "collapsed": true
   },
   "outputs": [],
   "source": []
  },
  {
   "cell_type": "markdown",
   "metadata": {},
   "source": [
    "### La roue version dynamique\n",
    "En changeant astucieusement les couleurs des arcs donnez l'impression que la roue tourne comme dans la figure suivante :\n",
    "\n",
    "<img src=\"roue.gif\" alt=\"Roue\" width=\"200\" align=\"left\">"
   ]
  },
  {
   "cell_type": "code",
   "execution_count": null,
   "metadata": {
    "collapsed": true
   },
   "outputs": [],
   "source": []
  },
  {
   "cell_type": "markdown",
   "metadata": {},
   "source": [
    "## Exercice 5 : "
   ]
  },
  {
   "cell_type": "markdown",
   "metadata": {},
   "source": [
    "Écrivez une classe Domino pour représenter une pièce de domino. Les objet sont initialisés avec les valeurs des deux faces, A et B. Ajoutez une méthode .affiche_points()qui affiche les valeurs des deux faces, et une méthode .totale()qui retourne la somme de deux valeurs."
   ]
  },
  {
   "cell_type": "raw",
   "metadata": {},
   "source": [
    ">>> d = Domino(4, 6)\n",
    ">>> d.affiche_points()\n",
    "face A: 4, face B: 6\n",
    ">>> x = d.totale()\n",
    ">>> print(x)\n",
    "10"
   ]
  },
  {
   "cell_type": "code",
   "execution_count": null,
   "metadata": {
    "collapsed": true
   },
   "outputs": [],
   "source": []
  },
  {
   "cell_type": "markdown",
   "metadata": {},
   "source": [
    "## Exercice 6 : \n",
    "\n",
    "Écrivez une classe CompteBancaire. Les objets sont initialisés avec le nom du titulaire et le solde. L’argument solde doit être facultatif et avoir une valeur prédéfinie zéro.\n",
    "Ajoutez deux méthodes .depot(somme) et .retrait(somme) pour changer le solde. Ajoutez une méthode .affiche() qui montre le solde courant."
   ]
  },
  {
   "cell_type": "raw",
   "metadata": {},
   "source": [
    ">>> compte1 = CompteBancaire(’Jean’, 1000)\n",
    ">>> compte1.retrait(200)\n",
    ">>> compte1.affiche()\n",
    "Le solde du compte de Jean est 800 euros.\n",
    ">>> compte2 = CompteBancaire(’Marc’)\n",
    ">>> compte2.depot(500)\n",
    ">>> compte2.affiche()\n",
    "Le solde du compte de Marc est 500 euro"
   ]
  },
  {
   "cell_type": "code",
   "execution_count": null,
   "metadata": {
    "collapsed": true
   },
   "outputs": [],
   "source": []
  }
 ],
 "metadata": {
  "kernelspec": {
   "display_name": "Python 3",
   "language": "python",
   "name": "python3"
  },
  "language_info": {
   "codemirror_mode": {
    "name": "ipython",
    "version": 3
   },
   "file_extension": ".py",
   "mimetype": "text/x-python",
   "name": "python",
   "nbconvert_exporter": "python",
   "pygments_lexer": "ipython3",
   "version": "3.4.5"
  }
 },
 "nbformat": 4,
 "nbformat_minor": 2
}
